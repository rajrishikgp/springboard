{
 "cells": [
  {
   "cell_type": "code",
   "execution_count": 586,
   "id": "6aa8ff29",
   "metadata": {},
   "outputs": [],
   "source": [
    "%matplotlib inline \n",
    "\n",
    "import numpy as np\n",
    "import pandas as pd\n",
    "import scipy.stats as stats\n",
    "import matplotlib.pyplot as plt\n",
    "import sklearn\n",
    "\n",
    "import seaborn as sns"
   ]
  },
  {
   "cell_type": "code",
   "execution_count": 587,
   "id": "407fc132",
   "metadata": {},
   "outputs": [],
   "source": [
    "df = pd.read_csv('train.csv')"
   ]
  },
  {
   "cell_type": "code",
   "execution_count": 588,
   "id": "9ab5a297",
   "metadata": {},
   "outputs": [
    {
     "data": {
      "text/html": [
       "<div>\n",
       "<style scoped>\n",
       "    .dataframe tbody tr th:only-of-type {\n",
       "        vertical-align: middle;\n",
       "    }\n",
       "\n",
       "    .dataframe tbody tr th {\n",
       "        vertical-align: top;\n",
       "    }\n",
       "\n",
       "    .dataframe thead th {\n",
       "        text-align: right;\n",
       "    }\n",
       "</style>\n",
       "<table border=\"1\" class=\"dataframe\">\n",
       "  <thead>\n",
       "    <tr style=\"text-align: right;\">\n",
       "      <th></th>\n",
       "      <th>RecordID</th>\n",
       "      <th>age</th>\n",
       "      <th>job</th>\n",
       "      <th>marital</th>\n",
       "      <th>education</th>\n",
       "      <th>default</th>\n",
       "      <th>housing</th>\n",
       "      <th>loan</th>\n",
       "      <th>contact</th>\n",
       "      <th>month</th>\n",
       "      <th>day_of_week</th>\n",
       "      <th>duration</th>\n",
       "      <th>campaign</th>\n",
       "      <th>pdays</th>\n",
       "      <th>previous</th>\n",
       "      <th>poutcome</th>\n",
       "      <th>emp.var.rate</th>\n",
       "      <th>cons.price.idx</th>\n",
       "      <th>cons.conf.idx</th>\n",
       "      <th>euribor3m</th>\n",
       "      <th>nr.employed</th>\n",
       "      <th>subscribe</th>\n",
       "    </tr>\n",
       "  </thead>\n",
       "  <tbody>\n",
       "    <tr>\n",
       "      <th>0</th>\n",
       "      <td>13783</td>\n",
       "      <td>49</td>\n",
       "      <td>admin.</td>\n",
       "      <td>divorced</td>\n",
       "      <td>professional.course</td>\n",
       "      <td>no</td>\n",
       "      <td>yes</td>\n",
       "      <td>yes</td>\n",
       "      <td>cellular</td>\n",
       "      <td>aug</td>\n",
       "      <td>mon</td>\n",
       "      <td>4457</td>\n",
       "      <td>1</td>\n",
       "      <td>115</td>\n",
       "      <td>2</td>\n",
       "      <td>failure</td>\n",
       "      <td>1.4</td>\n",
       "      <td>92.479703</td>\n",
       "      <td>-35.498996</td>\n",
       "      <td>0.705058</td>\n",
       "      <td>4990.198481</td>\n",
       "      <td>no</td>\n",
       "    </tr>\n",
       "    <tr>\n",
       "      <th>1</th>\n",
       "      <td>23986</td>\n",
       "      <td>52</td>\n",
       "      <td>services</td>\n",
       "      <td>married</td>\n",
       "      <td>high.school</td>\n",
       "      <td>unknown</td>\n",
       "      <td>yes</td>\n",
       "      <td>no</td>\n",
       "      <td>cellular</td>\n",
       "      <td>may</td>\n",
       "      <td>mon</td>\n",
       "      <td>4797</td>\n",
       "      <td>1</td>\n",
       "      <td>402</td>\n",
       "      <td>2</td>\n",
       "      <td>nonexistent</td>\n",
       "      <td>-1.8</td>\n",
       "      <td>93.439161</td>\n",
       "      <td>-39.331320</td>\n",
       "      <td>4.245479</td>\n",
       "      <td>5144.563621</td>\n",
       "      <td>yes</td>\n",
       "    </tr>\n",
       "    <tr>\n",
       "      <th>2</th>\n",
       "      <td>20663</td>\n",
       "      <td>46</td>\n",
       "      <td>blue-collar</td>\n",
       "      <td>divorced</td>\n",
       "      <td>basic.9y</td>\n",
       "      <td>no</td>\n",
       "      <td>no</td>\n",
       "      <td>no</td>\n",
       "      <td>cellular</td>\n",
       "      <td>apr</td>\n",
       "      <td>wed</td>\n",
       "      <td>169</td>\n",
       "      <td>1</td>\n",
       "      <td>999</td>\n",
       "      <td>1</td>\n",
       "      <td>failure</td>\n",
       "      <td>-1.8</td>\n",
       "      <td>93.075000</td>\n",
       "      <td>-47.100000</td>\n",
       "      <td>1.445000</td>\n",
       "      <td>5099.100000</td>\n",
       "      <td>no</td>\n",
       "    </tr>\n",
       "    <tr>\n",
       "      <th>3</th>\n",
       "      <td>13958</td>\n",
       "      <td>26</td>\n",
       "      <td>entrepreneur</td>\n",
       "      <td>single</td>\n",
       "      <td>high.school</td>\n",
       "      <td>yes</td>\n",
       "      <td>yes</td>\n",
       "      <td>yes</td>\n",
       "      <td>cellular</td>\n",
       "      <td>aug</td>\n",
       "      <td>fri</td>\n",
       "      <td>376</td>\n",
       "      <td>28</td>\n",
       "      <td>999</td>\n",
       "      <td>0</td>\n",
       "      <td>nonexistent</td>\n",
       "      <td>1.4</td>\n",
       "      <td>93.444000</td>\n",
       "      <td>-36.100000</td>\n",
       "      <td>4.967000</td>\n",
       "      <td>5228.100000</td>\n",
       "      <td>yes</td>\n",
       "    </tr>\n",
       "    <tr>\n",
       "      <th>4</th>\n",
       "      <td>28184</td>\n",
       "      <td>47</td>\n",
       "      <td>admin.</td>\n",
       "      <td>single</td>\n",
       "      <td>university.degree</td>\n",
       "      <td>no</td>\n",
       "      <td>no</td>\n",
       "      <td>no</td>\n",
       "      <td>cellular</td>\n",
       "      <td>nov</td>\n",
       "      <td>tue</td>\n",
       "      <td>3033</td>\n",
       "      <td>1</td>\n",
       "      <td>252</td>\n",
       "      <td>4</td>\n",
       "      <td>success</td>\n",
       "      <td>-3.4</td>\n",
       "      <td>94.352376</td>\n",
       "      <td>-33.073620</td>\n",
       "      <td>1.208702</td>\n",
       "      <td>5025.420036</td>\n",
       "      <td>no</td>\n",
       "    </tr>\n",
       "  </tbody>\n",
       "</table>\n",
       "</div>"
      ],
      "text/plain": [
       "   RecordID  age           job   marital            education  default  \\\n",
       "0     13783   49        admin.  divorced  professional.course       no   \n",
       "1     23986   52      services   married          high.school  unknown   \n",
       "2     20663   46   blue-collar  divorced             basic.9y       no   \n",
       "3     13958   26  entrepreneur    single          high.school      yes   \n",
       "4     28184   47        admin.    single    university.degree       no   \n",
       "\n",
       "  housing loan   contact month day_of_week  duration  campaign  pdays  \\\n",
       "0     yes  yes  cellular   aug         mon      4457         1    115   \n",
       "1     yes   no  cellular   may         mon      4797         1    402   \n",
       "2      no   no  cellular   apr         wed       169         1    999   \n",
       "3     yes  yes  cellular   aug         fri       376        28    999   \n",
       "4      no   no  cellular   nov         tue      3033         1    252   \n",
       "\n",
       "   previous     poutcome  emp.var.rate  cons.price.idx  cons.conf.idx  \\\n",
       "0         2      failure           1.4       92.479703     -35.498996   \n",
       "1         2  nonexistent          -1.8       93.439161     -39.331320   \n",
       "2         1      failure          -1.8       93.075000     -47.100000   \n",
       "3         0  nonexistent           1.4       93.444000     -36.100000   \n",
       "4         4      success          -3.4       94.352376     -33.073620   \n",
       "\n",
       "   euribor3m  nr.employed subscribe  \n",
       "0   0.705058  4990.198481        no  \n",
       "1   4.245479  5144.563621       yes  \n",
       "2   1.445000  5099.100000        no  \n",
       "3   4.967000  5228.100000       yes  \n",
       "4   1.208702  5025.420036        no  "
      ]
     },
     "execution_count": 588,
     "metadata": {},
     "output_type": "execute_result"
    }
   ],
   "source": [
    "#check the data\n",
    "df.head()"
   ]
  },
  {
   "cell_type": "code",
   "execution_count": 589,
   "id": "370ba81b",
   "metadata": {},
   "outputs": [
    {
     "data": {
      "text/plain": [
       "RecordID          0\n",
       "age               0\n",
       "job               0\n",
       "marital           0\n",
       "education         0\n",
       "default           0\n",
       "housing           0\n",
       "loan              0\n",
       "contact           0\n",
       "month             0\n",
       "day_of_week       0\n",
       "duration          0\n",
       "campaign          0\n",
       "pdays             0\n",
       "previous          0\n",
       "poutcome          0\n",
       "emp.var.rate      0\n",
       "cons.price.idx    0\n",
       "cons.conf.idx     0\n",
       "euribor3m         0\n",
       "nr.employed       0\n",
       "subscribe         0\n",
       "dtype: int64"
      ]
     },
     "execution_count": 589,
     "metadata": {},
     "output_type": "execute_result"
    }
   ],
   "source": [
    "#check if there are any NaN values\n",
    "df.isna().sum()"
   ]
  },
  {
   "cell_type": "code",
   "execution_count": 590,
   "id": "a0883c39",
   "metadata": {},
   "outputs": [
    {
     "data": {
      "text/plain": [
       "RecordID          22500\n",
       "age               22500\n",
       "job               22500\n",
       "marital           22500\n",
       "education         22500\n",
       "default           22500\n",
       "housing           22500\n",
       "loan              22500\n",
       "contact           22500\n",
       "month             22500\n",
       "day_of_week       22500\n",
       "duration          22500\n",
       "campaign          22500\n",
       "pdays             22500\n",
       "previous          22500\n",
       "poutcome          22500\n",
       "emp.var.rate      22500\n",
       "cons.price.idx    22500\n",
       "cons.conf.idx     22500\n",
       "euribor3m         22500\n",
       "nr.employed       22500\n",
       "subscribe         22500\n",
       "dtype: int64"
      ]
     },
     "execution_count": 590,
     "metadata": {},
     "output_type": "execute_result"
    }
   ],
   "source": [
    "#check count of rows\n",
    "df.count()"
   ]
  },
  {
   "cell_type": "code",
   "execution_count": 591,
   "id": "47a7c3f6",
   "metadata": {},
   "outputs": [
    {
     "data": {
      "text/plain": [
       "RecordID            int64\n",
       "age                 int64\n",
       "job                object\n",
       "marital            object\n",
       "education          object\n",
       "default            object\n",
       "housing            object\n",
       "loan               object\n",
       "contact            object\n",
       "month              object\n",
       "day_of_week        object\n",
       "duration            int64\n",
       "campaign            int64\n",
       "pdays               int64\n",
       "previous            int64\n",
       "poutcome           object\n",
       "emp.var.rate      float64\n",
       "cons.price.idx    float64\n",
       "cons.conf.idx     float64\n",
       "euribor3m         float64\n",
       "nr.employed       float64\n",
       "subscribe          object\n",
       "dtype: object"
      ]
     },
     "execution_count": 591,
     "metadata": {},
     "output_type": "execute_result"
    }
   ],
   "source": [
    "#check data types\n",
    "df.dtypes"
   ]
  },
  {
   "cell_type": "code",
   "execution_count": 592,
   "id": "80d1c8d1",
   "metadata": {},
   "outputs": [
    {
     "data": {
      "text/plain": [
       "[]"
      ]
     },
     "execution_count": 592,
     "metadata": {},
     "output_type": "execute_result"
    }
   ],
   "source": [
    "#check boolean columns\n",
    "\n",
    "bool_cols = [col for col in df if np.isin(df[col].dropna().unique(), [0, 1]).all()]\n",
    "bool_cols"
   ]
  },
  {
   "cell_type": "code",
   "execution_count": 593,
   "id": "7a3f116e",
   "metadata": {},
   "outputs": [
    {
     "data": {
      "text/plain": [
       "array(['yes', 'no', 'unknown'], dtype=object)"
      ]
     },
     "execution_count": 593,
     "metadata": {},
     "output_type": "execute_result"
    }
   ],
   "source": [
    "#check the unique values for housing; note there are several 'unknown'\n",
    "df.housing.unique()"
   ]
  },
  {
   "cell_type": "code",
   "execution_count": 594,
   "id": "df83cf00",
   "metadata": {},
   "outputs": [
    {
     "data": {
      "text/plain": [
       "array(['yes', 'no', 'unknown'], dtype=object)"
      ]
     },
     "execution_count": 594,
     "metadata": {},
     "output_type": "execute_result"
    }
   ],
   "source": [
    "#check the unique values for loan; note there are several 'unknown'\n",
    "df.loan.unique()"
   ]
  },
  {
   "cell_type": "code",
   "execution_count": 595,
   "id": "1970380b",
   "metadata": {},
   "outputs": [
    {
     "data": {
      "text/plain": [
       "array(['no', 'unknown', 'yes'], dtype=object)"
      ]
     },
     "execution_count": 595,
     "metadata": {},
     "output_type": "execute_result"
    }
   ],
   "source": [
    "#check the unique values for default; note there are several 'unknown'\n",
    "df.default.unique()"
   ]
  },
  {
   "cell_type": "code",
   "execution_count": 596,
   "id": "fc4f0e3c",
   "metadata": {},
   "outputs": [],
   "source": [
    "#Change 'yes', 'no' values to '1', '0'\n",
    "map_yn = {'yes' : 1, 'no' : 0}\n",
    "df.subscribe = df.subscribe.map(map_yn)\n",
    "df.housing = df.housing.map(map_yn)\n",
    "df.loan = df.loan.map(map_yn)\n",
    "df.default = df.default.map(map_yn)"
   ]
  },
  {
   "cell_type": "code",
   "execution_count": 597,
   "id": "0730a78b",
   "metadata": {},
   "outputs": [
    {
     "data": {
      "text/plain": [
       "RecordID             0\n",
       "age                  0\n",
       "job                  0\n",
       "marital              0\n",
       "education            0\n",
       "default           4860\n",
       "housing            886\n",
       "loan               889\n",
       "contact              0\n",
       "month                0\n",
       "day_of_week          0\n",
       "duration             0\n",
       "campaign             0\n",
       "pdays                0\n",
       "previous             0\n",
       "poutcome             0\n",
       "emp.var.rate         0\n",
       "cons.price.idx       0\n",
       "cons.conf.idx        0\n",
       "euribor3m            0\n",
       "nr.employed          0\n",
       "subscribe            0\n",
       "dtype: int64"
      ]
     },
     "execution_count": 597,
     "metadata": {},
     "output_type": "execute_result"
    }
   ],
   "source": [
    "#check if there are any NaN values\n",
    "df.isna().sum()"
   ]
  },
  {
   "cell_type": "code",
   "execution_count": 598,
   "id": "1a755a1f",
   "metadata": {},
   "outputs": [],
   "source": [
    "#copy to a new dataframe to make changes\n",
    "df1 = df.copy()"
   ]
  },
  {
   "cell_type": "code",
   "execution_count": 599,
   "id": "a094c31b",
   "metadata": {},
   "outputs": [
    {
     "data": {
      "text/html": [
       "<div>\n",
       "<style scoped>\n",
       "    .dataframe tbody tr th:only-of-type {\n",
       "        vertical-align: middle;\n",
       "    }\n",
       "\n",
       "    .dataframe tbody tr th {\n",
       "        vertical-align: top;\n",
       "    }\n",
       "\n",
       "    .dataframe thead th {\n",
       "        text-align: right;\n",
       "    }\n",
       "</style>\n",
       "<table border=\"1\" class=\"dataframe\">\n",
       "  <thead>\n",
       "    <tr style=\"text-align: right;\">\n",
       "      <th></th>\n",
       "      <th>RecordID</th>\n",
       "      <th>age</th>\n",
       "      <th>job</th>\n",
       "      <th>marital</th>\n",
       "      <th>education</th>\n",
       "      <th>default</th>\n",
       "      <th>housing</th>\n",
       "      <th>loan</th>\n",
       "      <th>contact</th>\n",
       "      <th>month</th>\n",
       "      <th>day_of_week</th>\n",
       "      <th>duration</th>\n",
       "      <th>campaign</th>\n",
       "      <th>pdays</th>\n",
       "      <th>previous</th>\n",
       "      <th>poutcome</th>\n",
       "      <th>emp.var.rate</th>\n",
       "      <th>cons.price.idx</th>\n",
       "      <th>cons.conf.idx</th>\n",
       "      <th>euribor3m</th>\n",
       "      <th>nr.employed</th>\n",
       "      <th>subscribe</th>\n",
       "    </tr>\n",
       "  </thead>\n",
       "  <tbody>\n",
       "    <tr>\n",
       "      <th>0</th>\n",
       "      <td>13783</td>\n",
       "      <td>49</td>\n",
       "      <td>admin.</td>\n",
       "      <td>divorced</td>\n",
       "      <td>professional.course</td>\n",
       "      <td>0.0</td>\n",
       "      <td>1.0</td>\n",
       "      <td>1.0</td>\n",
       "      <td>cellular</td>\n",
       "      <td>aug</td>\n",
       "      <td>mon</td>\n",
       "      <td>4457</td>\n",
       "      <td>1</td>\n",
       "      <td>115</td>\n",
       "      <td>2</td>\n",
       "      <td>failure</td>\n",
       "      <td>1.4</td>\n",
       "      <td>92.479703</td>\n",
       "      <td>-35.498996</td>\n",
       "      <td>0.705058</td>\n",
       "      <td>4990.198481</td>\n",
       "      <td>0</td>\n",
       "    </tr>\n",
       "    <tr>\n",
       "      <th>1</th>\n",
       "      <td>23986</td>\n",
       "      <td>52</td>\n",
       "      <td>services</td>\n",
       "      <td>married</td>\n",
       "      <td>high.school</td>\n",
       "      <td>NaN</td>\n",
       "      <td>1.0</td>\n",
       "      <td>0.0</td>\n",
       "      <td>cellular</td>\n",
       "      <td>may</td>\n",
       "      <td>mon</td>\n",
       "      <td>4797</td>\n",
       "      <td>1</td>\n",
       "      <td>402</td>\n",
       "      <td>2</td>\n",
       "      <td>nonexistent</td>\n",
       "      <td>-1.8</td>\n",
       "      <td>93.439161</td>\n",
       "      <td>-39.331320</td>\n",
       "      <td>4.245479</td>\n",
       "      <td>5144.563621</td>\n",
       "      <td>1</td>\n",
       "    </tr>\n",
       "    <tr>\n",
       "      <th>2</th>\n",
       "      <td>20663</td>\n",
       "      <td>46</td>\n",
       "      <td>blue-collar</td>\n",
       "      <td>divorced</td>\n",
       "      <td>basic.9y</td>\n",
       "      <td>0.0</td>\n",
       "      <td>0.0</td>\n",
       "      <td>0.0</td>\n",
       "      <td>cellular</td>\n",
       "      <td>apr</td>\n",
       "      <td>wed</td>\n",
       "      <td>169</td>\n",
       "      <td>1</td>\n",
       "      <td>999</td>\n",
       "      <td>1</td>\n",
       "      <td>failure</td>\n",
       "      <td>-1.8</td>\n",
       "      <td>93.075000</td>\n",
       "      <td>-47.100000</td>\n",
       "      <td>1.445000</td>\n",
       "      <td>5099.100000</td>\n",
       "      <td>0</td>\n",
       "    </tr>\n",
       "    <tr>\n",
       "      <th>3</th>\n",
       "      <td>13958</td>\n",
       "      <td>26</td>\n",
       "      <td>entrepreneur</td>\n",
       "      <td>single</td>\n",
       "      <td>high.school</td>\n",
       "      <td>1.0</td>\n",
       "      <td>1.0</td>\n",
       "      <td>1.0</td>\n",
       "      <td>cellular</td>\n",
       "      <td>aug</td>\n",
       "      <td>fri</td>\n",
       "      <td>376</td>\n",
       "      <td>28</td>\n",
       "      <td>999</td>\n",
       "      <td>0</td>\n",
       "      <td>nonexistent</td>\n",
       "      <td>1.4</td>\n",
       "      <td>93.444000</td>\n",
       "      <td>-36.100000</td>\n",
       "      <td>4.967000</td>\n",
       "      <td>5228.100000</td>\n",
       "      <td>1</td>\n",
       "    </tr>\n",
       "    <tr>\n",
       "      <th>4</th>\n",
       "      <td>28184</td>\n",
       "      <td>47</td>\n",
       "      <td>admin.</td>\n",
       "      <td>single</td>\n",
       "      <td>university.degree</td>\n",
       "      <td>0.0</td>\n",
       "      <td>0.0</td>\n",
       "      <td>0.0</td>\n",
       "      <td>cellular</td>\n",
       "      <td>nov</td>\n",
       "      <td>tue</td>\n",
       "      <td>3033</td>\n",
       "      <td>1</td>\n",
       "      <td>252</td>\n",
       "      <td>4</td>\n",
       "      <td>success</td>\n",
       "      <td>-3.4</td>\n",
       "      <td>94.352376</td>\n",
       "      <td>-33.073620</td>\n",
       "      <td>1.208702</td>\n",
       "      <td>5025.420036</td>\n",
       "      <td>0</td>\n",
       "    </tr>\n",
       "  </tbody>\n",
       "</table>\n",
       "</div>"
      ],
      "text/plain": [
       "   RecordID  age           job   marital            education  default  \\\n",
       "0     13783   49        admin.  divorced  professional.course      0.0   \n",
       "1     23986   52      services   married          high.school      NaN   \n",
       "2     20663   46   blue-collar  divorced             basic.9y      0.0   \n",
       "3     13958   26  entrepreneur    single          high.school      1.0   \n",
       "4     28184   47        admin.    single    university.degree      0.0   \n",
       "\n",
       "   housing  loan   contact month day_of_week  duration  campaign  pdays  \\\n",
       "0      1.0   1.0  cellular   aug         mon      4457         1    115   \n",
       "1      1.0   0.0  cellular   may         mon      4797         1    402   \n",
       "2      0.0   0.0  cellular   apr         wed       169         1    999   \n",
       "3      1.0   1.0  cellular   aug         fri       376        28    999   \n",
       "4      0.0   0.0  cellular   nov         tue      3033         1    252   \n",
       "\n",
       "   previous     poutcome  emp.var.rate  cons.price.idx  cons.conf.idx  \\\n",
       "0         2      failure           1.4       92.479703     -35.498996   \n",
       "1         2  nonexistent          -1.8       93.439161     -39.331320   \n",
       "2         1      failure          -1.8       93.075000     -47.100000   \n",
       "3         0  nonexistent           1.4       93.444000     -36.100000   \n",
       "4         4      success          -3.4       94.352376     -33.073620   \n",
       "\n",
       "   euribor3m  nr.employed  subscribe  \n",
       "0   0.705058  4990.198481          0  \n",
       "1   4.245479  5144.563621          1  \n",
       "2   1.445000  5099.100000          0  \n",
       "3   4.967000  5228.100000          1  \n",
       "4   1.208702  5025.420036          0  "
      ]
     },
     "execution_count": 599,
     "metadata": {},
     "output_type": "execute_result"
    }
   ],
   "source": [
    "#check all the columns and the first rows of the data\n",
    "pd.set_option('display.max_columns', None)\n",
    "df1.head()"
   ]
  },
  {
   "cell_type": "code",
   "execution_count": 601,
   "id": "0e97bc90",
   "metadata": {},
   "outputs": [
    {
     "data": {
      "text/plain": [
       "Index(['RecordID', 'age', 'job', 'marital', 'education', 'default', 'housing',\n",
       "       'loan', 'contact', 'month', 'day_of_week', 'duration', 'campaign',\n",
       "       'pdays', 'previous', 'poutcome', 'emp.var.rate', 'cons.price.idx',\n",
       "       'cons.conf.idx', 'euribor3m', 'nr.employed', 'subscribe'],\n",
       "      dtype='object')"
      ]
     },
     "execution_count": 601,
     "metadata": {},
     "output_type": "execute_result"
    }
   ],
   "source": [
    "df1.columns"
   ]
  },
  {
   "cell_type": "code",
   "execution_count": 602,
   "id": "b499d541",
   "metadata": {},
   "outputs": [
    {
     "data": {
      "text/plain": [
       "array(['admin.', 'services', 'blue-collar', 'entrepreneur', 'management',\n",
       "       'technician', 'housemaid', 'self-employed', 'unemployed',\n",
       "       'retired', 'student', 'unknown'], dtype=object)"
      ]
     },
     "execution_count": 602,
     "metadata": {},
     "output_type": "execute_result"
    }
   ],
   "source": [
    "#check how many unique jobs\n",
    "df1.job.unique()"
   ]
  },
  {
   "cell_type": "code",
   "execution_count": 603,
   "id": "96e4ecae",
   "metadata": {},
   "outputs": [
    {
     "data": {
      "text/html": [
       "<div>\n",
       "<style scoped>\n",
       "    .dataframe tbody tr th:only-of-type {\n",
       "        vertical-align: middle;\n",
       "    }\n",
       "\n",
       "    .dataframe tbody tr th {\n",
       "        vertical-align: top;\n",
       "    }\n",
       "\n",
       "    .dataframe thead th {\n",
       "        text-align: right;\n",
       "    }\n",
       "</style>\n",
       "<table border=\"1\" class=\"dataframe\">\n",
       "  <thead>\n",
       "    <tr style=\"text-align: right;\">\n",
       "      <th></th>\n",
       "      <th>RecordID</th>\n",
       "      <th>age</th>\n",
       "      <th>default</th>\n",
       "      <th>housing</th>\n",
       "      <th>loan</th>\n",
       "      <th>duration</th>\n",
       "      <th>campaign</th>\n",
       "      <th>pdays</th>\n",
       "      <th>previous</th>\n",
       "      <th>emp.var.rate</th>\n",
       "      <th>cons.price.idx</th>\n",
       "      <th>cons.conf.idx</th>\n",
       "      <th>euribor3m</th>\n",
       "      <th>nr.employed</th>\n",
       "      <th>subscribe</th>\n",
       "    </tr>\n",
       "  </thead>\n",
       "  <tbody>\n",
       "    <tr>\n",
       "      <th>RecordID</th>\n",
       "      <td>1.000000</td>\n",
       "      <td>0.001750</td>\n",
       "      <td>-0.018274</td>\n",
       "      <td>0.082041</td>\n",
       "      <td>0.004947</td>\n",
       "      <td>0.010348</td>\n",
       "      <td>-0.043917</td>\n",
       "      <td>-0.097207</td>\n",
       "      <td>0.071292</td>\n",
       "      <td>-0.835081</td>\n",
       "      <td>-0.391390</td>\n",
       "      <td>-0.132593</td>\n",
       "      <td>-0.541810</td>\n",
       "      <td>-0.397919</td>\n",
       "      <td>0.268302</td>\n",
       "    </tr>\n",
       "    <tr>\n",
       "      <th>age</th>\n",
       "      <td>0.001750</td>\n",
       "      <td>1.000000</td>\n",
       "      <td>0.214069</td>\n",
       "      <td>-0.004093</td>\n",
       "      <td>0.045274</td>\n",
       "      <td>0.005017</td>\n",
       "      <td>0.239789</td>\n",
       "      <td>-0.009640</td>\n",
       "      <td>0.005006</td>\n",
       "      <td>0.001689</td>\n",
       "      <td>-0.005674</td>\n",
       "      <td>0.054529</td>\n",
       "      <td>0.008518</td>\n",
       "      <td>0.000972</td>\n",
       "      <td>0.093892</td>\n",
       "    </tr>\n",
       "    <tr>\n",
       "      <th>default</th>\n",
       "      <td>-0.018274</td>\n",
       "      <td>0.214069</td>\n",
       "      <td>1.000000</td>\n",
       "      <td>-0.014403</td>\n",
       "      <td>0.107469</td>\n",
       "      <td>-0.000245</td>\n",
       "      <td>0.539026</td>\n",
       "      <td>0.011028</td>\n",
       "      <td>-0.006295</td>\n",
       "      <td>0.018136</td>\n",
       "      <td>0.006215</td>\n",
       "      <td>-0.000855</td>\n",
       "      <td>0.003291</td>\n",
       "      <td>0.015043</td>\n",
       "      <td>0.160437</td>\n",
       "    </tr>\n",
       "    <tr>\n",
       "      <th>housing</th>\n",
       "      <td>0.082041</td>\n",
       "      <td>-0.004093</td>\n",
       "      <td>-0.014403</td>\n",
       "      <td>1.000000</td>\n",
       "      <td>0.041510</td>\n",
       "      <td>-0.003149</td>\n",
       "      <td>-0.014260</td>\n",
       "      <td>-0.007079</td>\n",
       "      <td>0.008255</td>\n",
       "      <td>-0.055340</td>\n",
       "      <td>-0.045276</td>\n",
       "      <td>-0.021476</td>\n",
       "      <td>-0.034640</td>\n",
       "      <td>-0.022219</td>\n",
       "      <td>0.004047</td>\n",
       "    </tr>\n",
       "    <tr>\n",
       "      <th>loan</th>\n",
       "      <td>0.004947</td>\n",
       "      <td>0.045274</td>\n",
       "      <td>0.107469</td>\n",
       "      <td>0.041510</td>\n",
       "      <td>1.000000</td>\n",
       "      <td>0.000416</td>\n",
       "      <td>0.123182</td>\n",
       "      <td>-0.008696</td>\n",
       "      <td>-0.010697</td>\n",
       "      <td>0.003033</td>\n",
       "      <td>-0.003001</td>\n",
       "      <td>-0.005691</td>\n",
       "      <td>-0.006686</td>\n",
       "      <td>0.004179</td>\n",
       "      <td>0.023371</td>\n",
       "    </tr>\n",
       "    <tr>\n",
       "      <th>duration</th>\n",
       "      <td>0.010348</td>\n",
       "      <td>0.005017</td>\n",
       "      <td>-0.000245</td>\n",
       "      <td>-0.003149</td>\n",
       "      <td>0.000416</td>\n",
       "      <td>1.000000</td>\n",
       "      <td>0.000496</td>\n",
       "      <td>-0.527144</td>\n",
       "      <td>0.542028</td>\n",
       "      <td>-0.013169</td>\n",
       "      <td>-0.055921</td>\n",
       "      <td>0.113328</td>\n",
       "      <td>-0.182963</td>\n",
       "      <td>-0.327792</td>\n",
       "      <td>0.037470</td>\n",
       "    </tr>\n",
       "    <tr>\n",
       "      <th>campaign</th>\n",
       "      <td>-0.043917</td>\n",
       "      <td>0.239789</td>\n",
       "      <td>0.539026</td>\n",
       "      <td>-0.014260</td>\n",
       "      <td>0.123182</td>\n",
       "      <td>0.000496</td>\n",
       "      <td>1.000000</td>\n",
       "      <td>0.011605</td>\n",
       "      <td>-0.009045</td>\n",
       "      <td>0.065415</td>\n",
       "      <td>0.028924</td>\n",
       "      <td>0.011142</td>\n",
       "      <td>0.034502</td>\n",
       "      <td>0.038622</td>\n",
       "      <td>0.165172</td>\n",
       "    </tr>\n",
       "    <tr>\n",
       "      <th>pdays</th>\n",
       "      <td>-0.097207</td>\n",
       "      <td>-0.009640</td>\n",
       "      <td>0.011028</td>\n",
       "      <td>-0.007079</td>\n",
       "      <td>-0.008696</td>\n",
       "      <td>-0.527144</td>\n",
       "      <td>0.011605</td>\n",
       "      <td>1.000000</td>\n",
       "      <td>-0.559691</td>\n",
       "      <td>0.094031</td>\n",
       "      <td>0.071983</td>\n",
       "      <td>-0.124029</td>\n",
       "      <td>0.275094</td>\n",
       "      <td>0.410752</td>\n",
       "      <td>-0.100082</td>\n",
       "    </tr>\n",
       "    <tr>\n",
       "      <th>previous</th>\n",
       "      <td>0.071292</td>\n",
       "      <td>0.005006</td>\n",
       "      <td>-0.006295</td>\n",
       "      <td>0.008255</td>\n",
       "      <td>-0.010697</td>\n",
       "      <td>0.542028</td>\n",
       "      <td>-0.009045</td>\n",
       "      <td>-0.559691</td>\n",
       "      <td>1.000000</td>\n",
       "      <td>-0.072764</td>\n",
       "      <td>-0.080095</td>\n",
       "      <td>0.092646</td>\n",
       "      <td>-0.255666</td>\n",
       "      <td>-0.385008</td>\n",
       "      <td>0.032854</td>\n",
       "    </tr>\n",
       "    <tr>\n",
       "      <th>emp.var.rate</th>\n",
       "      <td>-0.835081</td>\n",
       "      <td>0.001689</td>\n",
       "      <td>0.018136</td>\n",
       "      <td>-0.055340</td>\n",
       "      <td>0.003033</td>\n",
       "      <td>-0.013169</td>\n",
       "      <td>0.065415</td>\n",
       "      <td>0.094031</td>\n",
       "      <td>-0.072764</td>\n",
       "      <td>1.000000</td>\n",
       "      <td>0.414045</td>\n",
       "      <td>0.103430</td>\n",
       "      <td>0.625127</td>\n",
       "      <td>0.476833</td>\n",
       "      <td>-0.270444</td>\n",
       "    </tr>\n",
       "    <tr>\n",
       "      <th>cons.price.idx</th>\n",
       "      <td>-0.391390</td>\n",
       "      <td>-0.005674</td>\n",
       "      <td>0.006215</td>\n",
       "      <td>-0.045276</td>\n",
       "      <td>-0.003001</td>\n",
       "      <td>-0.055921</td>\n",
       "      <td>0.028924</td>\n",
       "      <td>0.071983</td>\n",
       "      <td>-0.080095</td>\n",
       "      <td>0.414045</td>\n",
       "      <td>1.000000</td>\n",
       "      <td>0.024633</td>\n",
       "      <td>0.414972</td>\n",
       "      <td>0.276800</td>\n",
       "      <td>-0.074710</td>\n",
       "    </tr>\n",
       "    <tr>\n",
       "      <th>cons.conf.idx</th>\n",
       "      <td>-0.132593</td>\n",
       "      <td>0.054529</td>\n",
       "      <td>-0.000855</td>\n",
       "      <td>-0.021476</td>\n",
       "      <td>-0.005691</td>\n",
       "      <td>0.113328</td>\n",
       "      <td>0.011142</td>\n",
       "      <td>-0.124029</td>\n",
       "      <td>0.092646</td>\n",
       "      <td>0.103430</td>\n",
       "      <td>0.024633</td>\n",
       "      <td>1.000000</td>\n",
       "      <td>0.114132</td>\n",
       "      <td>-0.016743</td>\n",
       "      <td>0.026914</td>\n",
       "    </tr>\n",
       "    <tr>\n",
       "      <th>euribor3m</th>\n",
       "      <td>-0.541810</td>\n",
       "      <td>0.008518</td>\n",
       "      <td>0.003291</td>\n",
       "      <td>-0.034640</td>\n",
       "      <td>-0.006686</td>\n",
       "      <td>-0.182963</td>\n",
       "      <td>0.034502</td>\n",
       "      <td>0.275094</td>\n",
       "      <td>-0.255666</td>\n",
       "      <td>0.625127</td>\n",
       "      <td>0.414972</td>\n",
       "      <td>0.114132</td>\n",
       "      <td>1.000000</td>\n",
       "      <td>0.637047</td>\n",
       "      <td>-0.181128</td>\n",
       "    </tr>\n",
       "    <tr>\n",
       "      <th>nr.employed</th>\n",
       "      <td>-0.397919</td>\n",
       "      <td>0.000972</td>\n",
       "      <td>0.015043</td>\n",
       "      <td>-0.022219</td>\n",
       "      <td>0.004179</td>\n",
       "      <td>-0.327792</td>\n",
       "      <td>0.038622</td>\n",
       "      <td>0.410752</td>\n",
       "      <td>-0.385008</td>\n",
       "      <td>0.476833</td>\n",
       "      <td>0.276800</td>\n",
       "      <td>-0.016743</td>\n",
       "      <td>0.637047</td>\n",
       "      <td>1.000000</td>\n",
       "      <td>-0.176219</td>\n",
       "    </tr>\n",
       "    <tr>\n",
       "      <th>subscribe</th>\n",
       "      <td>0.268302</td>\n",
       "      <td>0.093892</td>\n",
       "      <td>0.160437</td>\n",
       "      <td>0.004047</td>\n",
       "      <td>0.023371</td>\n",
       "      <td>0.037470</td>\n",
       "      <td>0.165172</td>\n",
       "      <td>-0.100082</td>\n",
       "      <td>0.032854</td>\n",
       "      <td>-0.270444</td>\n",
       "      <td>-0.074710</td>\n",
       "      <td>0.026914</td>\n",
       "      <td>-0.181128</td>\n",
       "      <td>-0.176219</td>\n",
       "      <td>1.000000</td>\n",
       "    </tr>\n",
       "  </tbody>\n",
       "</table>\n",
       "</div>"
      ],
      "text/plain": [
       "                RecordID       age   default   housing      loan  duration  \\\n",
       "RecordID        1.000000  0.001750 -0.018274  0.082041  0.004947  0.010348   \n",
       "age             0.001750  1.000000  0.214069 -0.004093  0.045274  0.005017   \n",
       "default        -0.018274  0.214069  1.000000 -0.014403  0.107469 -0.000245   \n",
       "housing         0.082041 -0.004093 -0.014403  1.000000  0.041510 -0.003149   \n",
       "loan            0.004947  0.045274  0.107469  0.041510  1.000000  0.000416   \n",
       "duration        0.010348  0.005017 -0.000245 -0.003149  0.000416  1.000000   \n",
       "campaign       -0.043917  0.239789  0.539026 -0.014260  0.123182  0.000496   \n",
       "pdays          -0.097207 -0.009640  0.011028 -0.007079 -0.008696 -0.527144   \n",
       "previous        0.071292  0.005006 -0.006295  0.008255 -0.010697  0.542028   \n",
       "emp.var.rate   -0.835081  0.001689  0.018136 -0.055340  0.003033 -0.013169   \n",
       "cons.price.idx -0.391390 -0.005674  0.006215 -0.045276 -0.003001 -0.055921   \n",
       "cons.conf.idx  -0.132593  0.054529 -0.000855 -0.021476 -0.005691  0.113328   \n",
       "euribor3m      -0.541810  0.008518  0.003291 -0.034640 -0.006686 -0.182963   \n",
       "nr.employed    -0.397919  0.000972  0.015043 -0.022219  0.004179 -0.327792   \n",
       "subscribe       0.268302  0.093892  0.160437  0.004047  0.023371  0.037470   \n",
       "\n",
       "                campaign     pdays  previous  emp.var.rate  cons.price.idx  \\\n",
       "RecordID       -0.043917 -0.097207  0.071292     -0.835081       -0.391390   \n",
       "age             0.239789 -0.009640  0.005006      0.001689       -0.005674   \n",
       "default         0.539026  0.011028 -0.006295      0.018136        0.006215   \n",
       "housing        -0.014260 -0.007079  0.008255     -0.055340       -0.045276   \n",
       "loan            0.123182 -0.008696 -0.010697      0.003033       -0.003001   \n",
       "duration        0.000496 -0.527144  0.542028     -0.013169       -0.055921   \n",
       "campaign        1.000000  0.011605 -0.009045      0.065415        0.028924   \n",
       "pdays           0.011605  1.000000 -0.559691      0.094031        0.071983   \n",
       "previous       -0.009045 -0.559691  1.000000     -0.072764       -0.080095   \n",
       "emp.var.rate    0.065415  0.094031 -0.072764      1.000000        0.414045   \n",
       "cons.price.idx  0.028924  0.071983 -0.080095      0.414045        1.000000   \n",
       "cons.conf.idx   0.011142 -0.124029  0.092646      0.103430        0.024633   \n",
       "euribor3m       0.034502  0.275094 -0.255666      0.625127        0.414972   \n",
       "nr.employed     0.038622  0.410752 -0.385008      0.476833        0.276800   \n",
       "subscribe       0.165172 -0.100082  0.032854     -0.270444       -0.074710   \n",
       "\n",
       "                cons.conf.idx  euribor3m  nr.employed  subscribe  \n",
       "RecordID            -0.132593  -0.541810    -0.397919   0.268302  \n",
       "age                  0.054529   0.008518     0.000972   0.093892  \n",
       "default             -0.000855   0.003291     0.015043   0.160437  \n",
       "housing             -0.021476  -0.034640    -0.022219   0.004047  \n",
       "loan                -0.005691  -0.006686     0.004179   0.023371  \n",
       "duration             0.113328  -0.182963    -0.327792   0.037470  \n",
       "campaign             0.011142   0.034502     0.038622   0.165172  \n",
       "pdays               -0.124029   0.275094     0.410752  -0.100082  \n",
       "previous             0.092646  -0.255666    -0.385008   0.032854  \n",
       "emp.var.rate         0.103430   0.625127     0.476833  -0.270444  \n",
       "cons.price.idx       0.024633   0.414972     0.276800  -0.074710  \n",
       "cons.conf.idx        1.000000   0.114132    -0.016743   0.026914  \n",
       "euribor3m            0.114132   1.000000     0.637047  -0.181128  \n",
       "nr.employed         -0.016743   0.637047     1.000000  -0.176219  \n",
       "subscribe            0.026914  -0.181128    -0.176219   1.000000  "
      ]
     },
     "execution_count": 603,
     "metadata": {},
     "output_type": "execute_result"
    }
   ],
   "source": [
    "#checking the correlation matrix\n",
    "df1.corr()\n",
    "#Seems not a strong correlation between subscribe and other variables"
   ]
  },
  {
   "cell_type": "code",
   "execution_count": 604,
   "id": "c5ef1dec",
   "metadata": {},
   "outputs": [
    {
     "data": {
      "text/html": [
       "<div>\n",
       "<style scoped>\n",
       "    .dataframe tbody tr th:only-of-type {\n",
       "        vertical-align: middle;\n",
       "    }\n",
       "\n",
       "    .dataframe tbody tr th {\n",
       "        vertical-align: top;\n",
       "    }\n",
       "\n",
       "    .dataframe thead th {\n",
       "        text-align: right;\n",
       "    }\n",
       "</style>\n",
       "<table border=\"1\" class=\"dataframe\">\n",
       "  <thead>\n",
       "    <tr style=\"text-align: right;\">\n",
       "      <th></th>\n",
       "      <th>RecordID</th>\n",
       "      <th>age</th>\n",
       "      <th>default</th>\n",
       "      <th>housing</th>\n",
       "      <th>loan</th>\n",
       "      <th>duration</th>\n",
       "      <th>campaign</th>\n",
       "      <th>pdays</th>\n",
       "      <th>previous</th>\n",
       "      <th>emp.var.rate</th>\n",
       "      <th>cons.price.idx</th>\n",
       "      <th>cons.conf.idx</th>\n",
       "      <th>euribor3m</th>\n",
       "      <th>nr.employed</th>\n",
       "      <th>subscribe</th>\n",
       "    </tr>\n",
       "  </thead>\n",
       "  <tbody>\n",
       "    <tr>\n",
       "      <th>count</th>\n",
       "      <td>22500.000000</td>\n",
       "      <td>22500.000000</td>\n",
       "      <td>17640.000000</td>\n",
       "      <td>21614.000000</td>\n",
       "      <td>21611.000000</td>\n",
       "      <td>22500.000000</td>\n",
       "      <td>22500.000000</td>\n",
       "      <td>22500.000000</td>\n",
       "      <td>22500.000000</td>\n",
       "      <td>22500.000000</td>\n",
       "      <td>22500.000000</td>\n",
       "      <td>22500.000000</td>\n",
       "      <td>22500.000000</td>\n",
       "      <td>22500.000000</td>\n",
       "      <td>22500.000000</td>\n",
       "    </tr>\n",
       "    <tr>\n",
       "      <th>mean</th>\n",
       "      <td>15011.876889</td>\n",
       "      <td>40.904489</td>\n",
       "      <td>0.021485</td>\n",
       "      <td>0.535209</td>\n",
       "      <td>0.169219</td>\n",
       "      <td>1146.554311</td>\n",
       "      <td>3.857244</td>\n",
       "      <td>774.562533</td>\n",
       "      <td>1.316444</td>\n",
       "      <td>0.078529</td>\n",
       "      <td>93.538746</td>\n",
       "      <td>-39.872633</td>\n",
       "      <td>3.307811</td>\n",
       "      <td>5138.567351</td>\n",
       "      <td>0.131200</td>\n",
       "    </tr>\n",
       "    <tr>\n",
       "      <th>std</th>\n",
       "      <td>8679.392766</td>\n",
       "      <td>12.026945</td>\n",
       "      <td>0.144999</td>\n",
       "      <td>0.498770</td>\n",
       "      <td>0.374954</td>\n",
       "      <td>1430.790448</td>\n",
       "      <td>7.210891</td>\n",
       "      <td>326.020060</td>\n",
       "      <td>1.918733</td>\n",
       "      <td>1.573831</td>\n",
       "      <td>0.647698</td>\n",
       "      <td>5.692010</td>\n",
       "      <td>1.608627</td>\n",
       "      <td>81.748896</td>\n",
       "      <td>0.337626</td>\n",
       "    </tr>\n",
       "    <tr>\n",
       "      <th>min</th>\n",
       "      <td>1.000000</td>\n",
       "      <td>17.000000</td>\n",
       "      <td>0.000000</td>\n",
       "      <td>0.000000</td>\n",
       "      <td>0.000000</td>\n",
       "      <td>0.000000</td>\n",
       "      <td>1.000000</td>\n",
       "      <td>0.000000</td>\n",
       "      <td>0.000000</td>\n",
       "      <td>-3.400000</td>\n",
       "      <td>92.201000</td>\n",
       "      <td>-50.800000</td>\n",
       "      <td>0.634000</td>\n",
       "      <td>4963.600000</td>\n",
       "      <td>0.000000</td>\n",
       "    </tr>\n",
       "    <tr>\n",
       "      <th>25%</th>\n",
       "      <td>7483.750000</td>\n",
       "      <td>32.000000</td>\n",
       "      <td>0.000000</td>\n",
       "      <td>0.000000</td>\n",
       "      <td>0.000000</td>\n",
       "      <td>144.000000</td>\n",
       "      <td>1.000000</td>\n",
       "      <td>558.750000</td>\n",
       "      <td>0.000000</td>\n",
       "      <td>-1.800000</td>\n",
       "      <td>92.969840</td>\n",
       "      <td>-43.643788</td>\n",
       "      <td>1.410000</td>\n",
       "      <td>5081.293851</td>\n",
       "      <td>0.000000</td>\n",
       "    </tr>\n",
       "    <tr>\n",
       "      <th>50%</th>\n",
       "      <td>15032.500000</td>\n",
       "      <td>38.000000</td>\n",
       "      <td>0.000000</td>\n",
       "      <td>1.000000</td>\n",
       "      <td>0.000000</td>\n",
       "      <td>354.000000</td>\n",
       "      <td>2.000000</td>\n",
       "      <td>999.000000</td>\n",
       "      <td>0.000000</td>\n",
       "      <td>1.100000</td>\n",
       "      <td>93.485726</td>\n",
       "      <td>-41.522404</td>\n",
       "      <td>3.964364</td>\n",
       "      <td>5165.319989</td>\n",
       "      <td>0.000000</td>\n",
       "    </tr>\n",
       "    <tr>\n",
       "      <th>75%</th>\n",
       "      <td>22514.500000</td>\n",
       "      <td>48.000000</td>\n",
       "      <td>0.000000</td>\n",
       "      <td>1.000000</td>\n",
       "      <td>0.000000</td>\n",
       "      <td>1877.000000</td>\n",
       "      <td>3.000000</td>\n",
       "      <td>999.000000</td>\n",
       "      <td>2.000000</td>\n",
       "      <td>1.400000</td>\n",
       "      <td>93.994000</td>\n",
       "      <td>-36.100000</td>\n",
       "      <td>4.864000</td>\n",
       "      <td>5218.069326</td>\n",
       "      <td>0.000000</td>\n",
       "    </tr>\n",
       "    <tr>\n",
       "      <th>max</th>\n",
       "      <td>30000.000000</td>\n",
       "      <td>98.000000</td>\n",
       "      <td>1.000000</td>\n",
       "      <td>1.000000</td>\n",
       "      <td>1.000000</td>\n",
       "      <td>4918.000000</td>\n",
       "      <td>56.000000</td>\n",
       "      <td>999.000000</td>\n",
       "      <td>6.000000</td>\n",
       "      <td>1.400000</td>\n",
       "      <td>94.767000</td>\n",
       "      <td>-26.900000</td>\n",
       "      <td>5.045000</td>\n",
       "      <td>5228.100000</td>\n",
       "      <td>1.000000</td>\n",
       "    </tr>\n",
       "  </tbody>\n",
       "</table>\n",
       "</div>"
      ],
      "text/plain": [
       "           RecordID           age       default       housing          loan  \\\n",
       "count  22500.000000  22500.000000  17640.000000  21614.000000  21611.000000   \n",
       "mean   15011.876889     40.904489      0.021485      0.535209      0.169219   \n",
       "std     8679.392766     12.026945      0.144999      0.498770      0.374954   \n",
       "min        1.000000     17.000000      0.000000      0.000000      0.000000   \n",
       "25%     7483.750000     32.000000      0.000000      0.000000      0.000000   \n",
       "50%    15032.500000     38.000000      0.000000      1.000000      0.000000   \n",
       "75%    22514.500000     48.000000      0.000000      1.000000      0.000000   \n",
       "max    30000.000000     98.000000      1.000000      1.000000      1.000000   \n",
       "\n",
       "           duration      campaign         pdays      previous  emp.var.rate  \\\n",
       "count  22500.000000  22500.000000  22500.000000  22500.000000  22500.000000   \n",
       "mean    1146.554311      3.857244    774.562533      1.316444      0.078529   \n",
       "std     1430.790448      7.210891    326.020060      1.918733      1.573831   \n",
       "min        0.000000      1.000000      0.000000      0.000000     -3.400000   \n",
       "25%      144.000000      1.000000    558.750000      0.000000     -1.800000   \n",
       "50%      354.000000      2.000000    999.000000      0.000000      1.100000   \n",
       "75%     1877.000000      3.000000    999.000000      2.000000      1.400000   \n",
       "max     4918.000000     56.000000    999.000000      6.000000      1.400000   \n",
       "\n",
       "       cons.price.idx  cons.conf.idx     euribor3m   nr.employed     subscribe  \n",
       "count    22500.000000   22500.000000  22500.000000  22500.000000  22500.000000  \n",
       "mean        93.538746     -39.872633      3.307811   5138.567351      0.131200  \n",
       "std          0.647698       5.692010      1.608627     81.748896      0.337626  \n",
       "min         92.201000     -50.800000      0.634000   4963.600000      0.000000  \n",
       "25%         92.969840     -43.643788      1.410000   5081.293851      0.000000  \n",
       "50%         93.485726     -41.522404      3.964364   5165.319989      0.000000  \n",
       "75%         93.994000     -36.100000      4.864000   5218.069326      0.000000  \n",
       "max         94.767000     -26.900000      5.045000   5228.100000      1.000000  "
      ]
     },
     "execution_count": 604,
     "metadata": {},
     "output_type": "execute_result"
    }
   ],
   "source": [
    "df1.describe()"
   ]
  },
  {
   "cell_type": "code",
   "execution_count": 605,
   "id": "6bf80c7f",
   "metadata": {},
   "outputs": [],
   "source": [
    "#check for duplicate values in Record ID\n",
    "boolean = not df1['RecordID'].is_unique      # True (credit to @Carsten)\n",
    "boolean = df1['RecordID'].duplicated().any() "
   ]
  },
  {
   "cell_type": "code",
   "execution_count": 606,
   "id": "4b16647e",
   "metadata": {},
   "outputs": [
    {
     "data": {
      "image/png": "[encoded data removed]",
      "text/plain": [
       "<Figure size 432x288 with 1 Axes>"
      ]
     },
     "metadata": {
      "needs_background": "light"
     },
     "output_type": "display_data"
    }
   ],
   "source": [
    "#boxplot for outlier detection for age\n",
    "sns.boxplot(y=df1.age, data=df1)\n",
    "plt.show()"
   ]
  },
  {
   "cell_type": "code",
   "execution_count": 607,
   "id": "1e102209",
   "metadata": {},
   "outputs": [],
   "source": [
    "#remove age outliers\n",
    "#mean = df1['age'].mean()\n",
    "#std = df1['age'].std()\n",
    "#cut_off = 3* std\n",
    "#upper, lower = mean+ cut_off, mean- cut_off\n",
    "#df1 = df1[(df1['age'] > lower) & (df1['age'] < upper)]"
   ]
  },
  {
   "cell_type": "code",
   "execution_count": 608,
   "id": "3d210d87",
   "metadata": {},
   "outputs": [],
   "source": [
    "#Use 95% quantile to remove outliers\n",
    "q_cutoff = df1['age'].quantile(0.95)\n",
    "mask = df1['age'] < q_cutoff\n",
    "df1 = df1[mask]"
   ]
  },
  {
   "cell_type": "code",
   "execution_count": 609,
   "id": "c7063208",
   "metadata": {},
   "outputs": [
    {
     "data": {
      "image/png": "[encoded data removed]",
      "text/plain": [
       "<Figure size 432x288 with 1 Axes>"
      ]
     },
     "metadata": {
      "needs_background": "light"
     },
     "output_type": "display_data"
    }
   ],
   "source": [
    "sns.boxplot(y=df1.age, data=df1)\n",
    "plt.show()"
   ]
  },
  {
   "cell_type": "code",
   "execution_count": 610,
   "id": "5bd5be4f",
   "metadata": {},
   "outputs": [
    {
     "data": {
      "text/plain": [
       "RecordID          21316\n",
       "age               21316\n",
       "job               21316\n",
       "marital           21316\n",
       "education         21316\n",
       "default           16712\n",
       "housing           20643\n",
       "loan              20617\n",
       "contact           21316\n",
       "month             21316\n",
       "day_of_week       21316\n",
       "duration          21316\n",
       "campaign          21316\n",
       "pdays             21316\n",
       "previous          21316\n",
       "poutcome          21316\n",
       "emp.var.rate      21316\n",
       "cons.price.idx    21316\n",
       "cons.conf.idx     21316\n",
       "euribor3m         21316\n",
       "nr.employed       21316\n",
       "subscribe         21316\n",
       "dtype: int64"
      ]
     },
     "execution_count": 610,
     "metadata": {},
     "output_type": "execute_result"
    }
   ],
   "source": [
    "df1.count()"
   ]
  },
  {
   "cell_type": "code",
   "execution_count": 611,
   "id": "8a365bfe",
   "metadata": {},
   "outputs": [
    {
     "data": {
      "image/png": "[encoded data removed]",
      "text/plain": [
       "<Figure size 432x288 with 1 Axes>"
      ]
     },
     "metadata": {
      "needs_background": "light"
     },
     "output_type": "display_data"
    }
   ],
   "source": [
    "#boxplot for outlier detection for duration\n",
    "sns.boxplot(y=df1.duration, data=df1)\n",
    "plt.show()"
   ]
  },
  {
   "cell_type": "code",
   "execution_count": 612,
   "id": "722312eb",
   "metadata": {},
   "outputs": [
    {
     "data": {
      "image/png": "[encoded data removed]",
      "text/plain": [
       "<Figure size 432x288 with 1 Axes>"
      ]
     },
     "metadata": {
      "needs_background": "light"
     },
     "output_type": "display_data"
    }
   ],
   "source": [
    "sns.histplot(x=df1.duration, data= df1)\n",
    "plt.show()\n",
    "#long tail, will not be able to remove outliers"
   ]
  },
  {
   "cell_type": "code",
   "execution_count": 613,
   "id": "44fd74b5",
   "metadata": {},
   "outputs": [
    {
     "data": {
      "image/png": "[encoded data removed]",
      "text/plain": [
       "<Figure size 432x288 with 1 Axes>"
      ]
     },
     "metadata": {
      "needs_background": "light"
     },
     "output_type": "display_data"
    }
   ],
   "source": [
    "#before reoving tail end, check to see if the tail end values have both 1/0 values for subscribers\n",
    "sns.scatterplot(x= df1.duration, y= df1.subscribe, data=df1)\n",
    "plt.show()\n",
    "#Both high and low values of duration has subscribers"
   ]
  },
  {
   "cell_type": "code",
   "execution_count": 614,
   "id": "7af76abc",
   "metadata": {},
   "outputs": [
    {
     "data": {
      "image/png": "[encoded data removed]",
      "text/plain": [
       "<Figure size 432x288 with 1 Axes>"
      ]
     },
     "metadata": {
      "needs_background": "light"
     },
     "output_type": "display_data"
    }
   ],
   "source": [
    "#check the histogram for campaign\n",
    "sns.histplot(x=df1.campaign, data=df1)\n",
    "plt.show()"
   ]
  },
  {
   "cell_type": "code",
   "execution_count": 615,
   "id": "a902754c",
   "metadata": {},
   "outputs": [
    {
     "data": {
      "image/png": "[encoded data removed]",
      "text/plain": [
       "<Figure size 432x288 with 1 Axes>"
      ]
     },
     "metadata": {
      "needs_background": "light"
     },
     "output_type": "display_data"
    }
   ],
   "source": [
    "sns.scatterplot(x= df1.campaign, y= df1.subscribe, data=df1)\n",
    "plt.show()"
   ]
  },
  {
   "cell_type": "code",
   "execution_count": 616,
   "id": "5a366644",
   "metadata": {},
   "outputs": [
    {
     "data": {
      "image/png": "[encoded data removed]",
      "text/plain": [
       "<Figure size 432x288 with 1 Axes>"
      ]
     },
     "metadata": {
      "needs_background": "light"
     },
     "output_type": "display_data"
    }
   ],
   "source": [
    "#check histogram for pdays\n",
    "sns.histplot(x=df1.pdays, data=df1)\n",
    "plt.show()"
   ]
  },
  {
   "cell_type": "code",
   "execution_count": 617,
   "id": "36f2a362",
   "metadata": {},
   "outputs": [
    {
     "data": {
      "image/png": "[encoded data removed]",
      "text/plain": [
       "<Figure size 432x288 with 1 Axes>"
      ]
     },
     "metadata": {
      "needs_background": "light"
     },
     "output_type": "display_data"
    }
   ],
   "source": [
    "#check histogram for previous\n",
    "sns.histplot(x=df1.previous, data= df1)\n",
    "plt.show()"
   ]
  },
  {
   "cell_type": "code",
   "execution_count": 618,
   "id": "41385445",
   "metadata": {},
   "outputs": [
    {
     "data": {
      "text/plain": [
       "Index(['RecordID', 'age', 'job', 'marital', 'education', 'default', 'housing',\n",
       "       'loan', 'contact', 'month', 'day_of_week', 'duration', 'campaign',\n",
       "       'pdays', 'previous', 'poutcome', 'emp.var.rate', 'cons.price.idx',\n",
       "       'cons.conf.idx', 'euribor3m', 'nr.employed', 'subscribe'],\n",
       "      dtype='object')"
      ]
     },
     "execution_count": 618,
     "metadata": {},
     "output_type": "execute_result"
    }
   ],
   "source": [
    "df1.columns"
   ]
  },
  {
   "cell_type": "code",
   "execution_count": 619,
   "id": "af1c24d1",
   "metadata": {},
   "outputs": [
    {
     "data": {
      "image/png": "[encoded data removed]",
      "text/plain": [
       "<Figure size 432x288 with 1 Axes>"
      ]
     },
     "metadata": {
      "needs_background": "light"
     },
     "output_type": "display_data"
    }
   ],
   "source": [
    "#check histogram for poutcome and emp.var.rate\n",
    "sns.histplot(data=df1, x=\"poutcome\", color=\"skyblue\", label=\"poutcome\")\n",
    "sns.histplot(data=df1, x=\"emp.var.rate\", color=\"red\", label=\"emp.var.rate\")\n",
    "plt.legend()\n",
    "plt.show()"
   ]
  },
  {
   "cell_type": "code",
   "execution_count": 620,
   "id": "843d034e",
   "metadata": {},
   "outputs": [
    {
     "data": {
      "image/png": "[encoded data removed]",
      "text/plain": [
       "<Figure size 432x288 with 1 Axes>"
      ]
     },
     "metadata": {
      "needs_background": "light"
     },
     "output_type": "display_data"
    }
   ],
   "source": [
    "#check histogram for euribor3m and nr.employed\n",
    "sns.histplot(data=df1, x=\"euribor3m\", color=\"blue\", label=\"euribor3m\")\n",
    "sns.histplot(data=df1, x=\"nr.employed\", color=\"violet\", label=\"nr.employed\")\n",
    "plt.legend()\n",
    "plt.show()"
   ]
  },
  {
   "cell_type": "code",
   "execution_count": 621,
   "id": "8a29b50c",
   "metadata": {},
   "outputs": [
    {
     "data": {
      "image/png": "[encoded data removed]",
      "text/plain": [
       "<Figure size 432x288 with 1 Axes>"
      ]
     },
     "metadata": {
      "needs_background": "light"
     },
     "output_type": "display_data"
    }
   ],
   "source": [
    "#check histogram for cons.price.inde and cons.conf.index\n",
    "sns.histplot(data=df1, x=\"cons.price.idx\", color=\"brown\", label=\"cons.price.idx\")\n",
    "sns.histplot(data=df1, x=\"cons.conf.idx\", color=\"green\", label=\"cons.conf.idx\")\n",
    "plt.legend()\n",
    "plt.show()"
   ]
  },
  {
   "cell_type": "code",
   "execution_count": 622,
   "id": "f08db8ff",
   "metadata": {},
   "outputs": [
    {
     "data": {
      "image/png": "[encoded data removed]",
      "text/plain": [
       "<Figure size 432x288 with 1 Axes>"
      ]
     },
     "metadata": {
      "needs_background": "light"
     },
     "output_type": "display_data"
    }
   ],
   "source": [
    "sns.histplot(data=df1, x=\"cons.price.idx\", color=\"brown\", label=\"cons.price.idx\")\n",
    "plt.show()"
   ]
  },
  {
   "cell_type": "code",
   "execution_count": 623,
   "id": "88ce41e3",
   "metadata": {},
   "outputs": [],
   "source": [
    "#remove consumer price outliers using quantiles\n",
    "q_cutoffh = df1['cons.price.idx'].quantile(0.95)\n",
    "q_cutoffl = df1['cons.price.idx'].quantile(0.05)\n",
    "maskh = df1['cons.price.idx'] < q_cutoffh\n",
    "df1 = df1[maskh]\n",
    "maskl = df1['cons.price.idx'] > q_cutoffl\n",
    "df1 = df1[maskl]"
   ]
  },
  {
   "cell_type": "code",
   "execution_count": 624,
   "id": "37986484",
   "metadata": {},
   "outputs": [
    {
     "data": {
      "image/png": "[encoded data removed]",
      "text/plain": [
       "<Figure size 432x288 with 1 Axes>"
      ]
     },
     "metadata": {
      "needs_background": "light"
     },
     "output_type": "display_data"
    }
   ],
   "source": [
    "sns.histplot(data=df1, x=\"cons.price.idx\", color=\"brown\", label=\"cons.price.idx\")\n",
    "plt.show()"
   ]
  },
  {
   "cell_type": "code",
   "execution_count": 625,
   "id": "863d493e",
   "metadata": {},
   "outputs": [
    {
     "data": {
      "image/png": "[encoded data removed]",
      "text/plain": [
       "<Figure size 432x288 with 1 Axes>"
      ]
     },
     "metadata": {
      "needs_background": "light"
     },
     "output_type": "display_data"
    }
   ],
   "source": [
    "#check histogram for consumer confidence index\n",
    "sns.histplot(data=df1, x=\"cons.conf.idx\", color=\"green\", label=\"cons.conf.idx\")\n",
    "plt.legend()\n",
    "plt.show()"
   ]
  },
  {
   "cell_type": "code",
   "execution_count": 626,
   "id": "d614332d",
   "metadata": {},
   "outputs": [],
   "source": [
    "#remove consumer confidence index outliers\n",
    "q_cutoffh = df1['cons.conf.idx'].quantile(0.95)\n",
    "q_cutoffl = df1['cons.conf.idx'].quantile(0.05)\n",
    "maskh = df1['cons.conf.idx'] < q_cutoffh\n",
    "df1 = df1[maskh]\n",
    "maskl = df1['cons.conf.idx'] > q_cutoffl\n",
    "df1 = df1[maskl]"
   ]
  },
  {
   "cell_type": "code",
   "execution_count": 627,
   "id": "7bb10e79",
   "metadata": {},
   "outputs": [
    {
     "data": {
      "image/png": "[encoded data removed]",
      "text/plain": [
       "<Figure size 432x288 with 1 Axes>"
      ]
     },
     "metadata": {
      "needs_background": "light"
     },
     "output_type": "display_data"
    }
   ],
   "source": [
    "sns.histplot(data=df1, x=\"cons.conf.idx\", color=\"green\", label=\"cons.conf.idx\")\n",
    "plt.legend()\n",
    "plt.show()"
   ]
  },
  {
   "cell_type": "code",
   "execution_count": 628,
   "id": "277f7e11",
   "metadata": {},
   "outputs": [
    {
     "data": {
      "image/png": "[encoded data removed]",
      "text/plain": [
       "<Figure size 432x288 with 1 Axes>"
      ]
     },
     "metadata": {
      "needs_background": "light"
     },
     "output_type": "display_data"
    }
   ],
   "source": [
    "sns.histplot(data=df1, x=\"euribor3m\", color=\"blue\", label=\"euribor3m\")\n",
    "plt.legend()\n",
    "plt.show()"
   ]
  },
  {
   "cell_type": "code",
   "execution_count": 629,
   "id": "5e78a1ad",
   "metadata": {},
   "outputs": [
    {
     "data": {
      "text/plain": [
       "RecordID             0\n",
       "age                  0\n",
       "job                  0\n",
       "marital              0\n",
       "education            0\n",
       "default           3858\n",
       "housing            554\n",
       "loan               565\n",
       "contact              0\n",
       "month                0\n",
       "day_of_week          0\n",
       "duration             0\n",
       "campaign             0\n",
       "pdays                0\n",
       "previous             0\n",
       "poutcome             0\n",
       "emp.var.rate         0\n",
       "cons.price.idx       0\n",
       "cons.conf.idx        0\n",
       "euribor3m            0\n",
       "nr.employed          0\n",
       "subscribe            0\n",
       "dtype: int64"
      ]
     },
     "execution_count": 629,
     "metadata": {},
     "output_type": "execute_result"
    }
   ],
   "source": [
    "df1.isna().sum()"
   ]
  },
  {
   "cell_type": "code",
   "execution_count": 630,
   "id": "c02974ee",
   "metadata": {},
   "outputs": [],
   "source": [
    "#dropping all the NaN values\n",
    "df1.dropna(inplace= True)"
   ]
  },
  {
   "cell_type": "code",
   "execution_count": 631,
   "id": "dc63c335",
   "metadata": {},
   "outputs": [
    {
     "data": {
      "text/plain": [
       "RecordID          0\n",
       "age               0\n",
       "job               0\n",
       "marital           0\n",
       "education         0\n",
       "default           0\n",
       "housing           0\n",
       "loan              0\n",
       "contact           0\n",
       "month             0\n",
       "day_of_week       0\n",
       "duration          0\n",
       "campaign          0\n",
       "pdays             0\n",
       "previous          0\n",
       "poutcome          0\n",
       "emp.var.rate      0\n",
       "cons.price.idx    0\n",
       "cons.conf.idx     0\n",
       "euribor3m         0\n",
       "nr.employed       0\n",
       "subscribe         0\n",
       "dtype: int64"
      ]
     },
     "execution_count": 631,
     "metadata": {},
     "output_type": "execute_result"
    }
   ],
   "source": [
    "df1.isna().sum()"
   ]
  },
  {
   "cell_type": "code",
   "execution_count": 633,
   "id": "4fe1baf4",
   "metadata": {},
   "outputs": [
    {
     "data": {
      "text/plain": [
       "RecordID          12858\n",
       "age               12858\n",
       "job               12858\n",
       "marital           12858\n",
       "education         12858\n",
       "default           12858\n",
       "housing           12858\n",
       "loan              12858\n",
       "contact           12858\n",
       "month             12858\n",
       "day_of_week       12858\n",
       "duration          12858\n",
       "campaign          12858\n",
       "pdays             12858\n",
       "previous          12858\n",
       "poutcome          12858\n",
       "emp.var.rate      12858\n",
       "cons.price.idx    12858\n",
       "cons.conf.idx     12858\n",
       "euribor3m         12858\n",
       "nr.employed       12858\n",
       "subscribe         12858\n",
       "dtype: int64"
      ]
     },
     "execution_count": 633,
     "metadata": {},
     "output_type": "execute_result"
    }
   ],
   "source": [
    "df1.count()"
   ]
  },
  {
   "cell_type": "code",
   "execution_count": null,
   "id": "0dba94f0",
   "metadata": {},
   "outputs": [],
   "source": []
  }
 ],
 "metadata": {
  "kernelspec": {
   "display_name": "Python 3",
   "language": "python",
   "name": "python3"
  },
  "language_info": {
   "codemirror_mode": {
    "name": "ipython",
    "version": 3
   },
   "file_extension": ".py",
   "mimetype": "text/x-python",
   "name": "python",
   "nbconvert_exporter": "python",
   "pygments_lexer": "ipython3",
   "version": "3.8.8"
  }
 },
 "nbformat": 4,
 "nbformat_minor": 5
}
